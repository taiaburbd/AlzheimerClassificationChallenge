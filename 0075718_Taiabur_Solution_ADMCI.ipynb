{
 "cells": [
  {
   "attachments": {},
   "cell_type": "markdown",
   "metadata": {},
   "source": [
    "**Classification Challange**\n",
    "\n",
    "Università degli studi di Cassino e del Lazio Meridionale\n",
    "\n",
    "Medical Imaging and Applications (MAIA)\n",
    "\n",
    "Taiabur Rahman"
   ]
  },
  {
   "attachments": {},
   "cell_type": "markdown",
   "metadata": {},
   "source": [
    "Workflow \n",
    "1. Preprocessing\n",
    "2. Feature selection\n",
    "3. Training\n",
    "4. Testing\n",
    "5. Result"
   ]
  },
  {
   "cell_type": "code",
   "execution_count": 185,
   "metadata": {},
   "outputs": [],
   "source": [
    "# import libraries and classes  \n",
    "import pandas as pd\n",
    "import matplotlib.pyplot as plt \n",
    "from sklearn.model_selection import train_test_split\n",
    "from sklearn.preprocessing import StandardScaler\n",
    "from sklearn.decomposition import PCA\n",
    "from sklearn.linear_model import LogisticRegression\n",
    "from sklearn.tree import DecisionTreeClassifier\n",
    "from sklearn.ensemble import RandomForestClassifier\n",
    "from sklearn.svm import SVC\n",
    "from sklearn.pipeline import Pipeline\n",
    "from sklearn.metrics import matthews_corrcoef, balanced_accuracy_score\n",
    "from sklearn.model_selection import cross_val_score, StratifiedKFold\n",
    "from sklearn.metrics import accuracy_score, precision_score, recall_score, f1_score, roc_auc_score"
   ]
  },
  {
   "cell_type": "code",
   "execution_count": 186,
   "metadata": {},
   "outputs": [],
   "source": [
    "# Preprocess the data\n",
    "def preprocess_data(df):\n",
    "    X = df.iloc[:, 1:-1] # extract features (remove ID and Label)\n",
    "    y = df.iloc[:, -1] # extract labels (last column)\n",
    "    # Handle missing values, feature scaling, or feature selection as needed\n",
    "    scaler = StandardScaler()\n",
    "    X = scaler.fit_transform(X) # scale the features\n",
    "\n",
    "    # Map class labels to binary values\n",
    "    label_mapping = {'AD': 1, 'MCI': 0}\n",
    "    y = y.map(label_mapping)\n",
    "    \n",
    "    return X, y\n",
    "# Preprocess the data\n",
    "def preprocess_test_data(df):\n",
    "    X = df.iloc[:, 1:] # extract features (remove ID)\n",
    "    y = df.iloc[:,:] \n",
    "    # Handle missing values, feature scaling, or feature selection as needed\n",
    "    scaler = StandardScaler()\n",
    "    X = scaler.fit_transform(X) # scale the features\n",
    "    return X, y\n",
    "\n",
    "# Split the train dataset into a training set and a validation set\n",
    "def split_train_validation(X, y):\n",
    "    X_train, X_val, y_train, y_val = train_test_split(X, y, test_size=0.7, random_state=42)\n",
    "    return X_train, X_val, y_train, y_val\n",
    "def pro_pca(X):\n",
    "    # Apply PCA\n",
    "    pca = PCA(n_components=5)  # Specify the number of components to retain\n",
    "    X_pca = pca.fit_transform(X)\n",
    "    return X_pca\n",
    "# Train a binary classification model using logistic regression\n",
    "def train_logistic_regression(X_train, y_train, X_val, y_val):\n",
    "    model = LogisticRegression()\n",
    "    model.fit(X_train, y_train)\n",
    "    y_pred = model.predict(X_val)\n",
    "    accuracy = accuracy_score(y_val, y_pred)\n",
    "    precision = precision_score(y_val, y_pred)\n",
    "    sensitivity = recall_score(y_val, y_pred)\n",
    "    f1 = f1_score(y_val, y_pred)\n",
    "    roc_auc = roc_auc_score(y_val, y_pred)\n",
    "    mcc = matthews_corrcoef(y_val, y_pred)\n",
    "    balanced_accuracy = balanced_accuracy_score(y_val, y_pred)\n",
    "    return model, accuracy, precision, sensitivity, f1, roc_auc,mcc,balanced_accuracy\n",
    "# Train a binary classification model using decision tree\n",
    "def train_decision_tree(X_train, y_train, X_val, y_val):\n",
    "    model = DecisionTreeClassifier()\n",
    "    model.fit(X_train, y_train)\n",
    "    y_pred = model.predict(X_val)\n",
    "    accuracy = accuracy_score(y_val, y_pred)\n",
    "    precision = precision_score(y_val, y_pred)\n",
    "    sensitivity = recall_score(y_val, y_pred)\n",
    "    f1 = f1_score(y_val, y_pred)\n",
    "    roc_auc = roc_auc_score(y_val, y_pred)\n",
    "    return model, accuracy, precision, sensitivity, f1, roc_auc\n",
    "\n",
    "# Train a binary classification model using random forest\n",
    "def train_random_forest(X_train, y_train, X_val, y_val):\n",
    "    model = RandomForestClassifier()\n",
    "    model.fit(X_train, y_train)\n",
    "    y_pred = model.predict(X_val)\n",
    "    accuracy = accuracy_score(y_val, y_pred)\n",
    "    precision = precision_score(y_val, y_pred)\n",
    "    sensitivity = recall_score(y_val, y_pred)\n",
    "    f1 = f1_score(y_val, y_pred)\n",
    "    roc_auc = roc_auc_score(y_val, y_pred)\n",
    "    return model, accuracy, precision, sensitivity, f1, roc_auc\n",
    "\n",
    "def train_svc(X_train_ADCTL, y_train_ADCTL,X_test_ADCTL,y_test_ADCTL):\n",
    "    # Train the SVM model\n",
    "    model = SVC()\n",
    "    model.fit(X_train_ADCTL, y_train_ADCTL)\n",
    "\n",
    "    # Predict on the test set\n",
    "    y_pred = model.predict(X_test_ADCTL)\n",
    "    # Evaluate the model\n",
    "    accuracy = accuracy_score(y_test_ADCTL, y_pred)\n",
    "    precision = precision_score(y_test_ADCTL, y_pred)\n",
    "    sensitivity = recall_score(y_test_ADCTL, y_pred)\n",
    "    f1 = f1_score(y_test_ADCTL, y_pred)\n",
    "    roc_auc = roc_auc_score(y_test_ADCTL, y_pred)\n",
    "    return model, accuracy, precision, sensitivity, f1, roc_auc\n",
    "\n",
    "# Define a function to train and evaluate a model using cross-validation\n",
    "def train_and_evaluate_model(model, X, y):\n",
    "    # Perform 10-fold cross-validation\n",
    "    cv = StratifiedKFold(n_splits=10, shuffle=True, random_state=42)\n",
    "    scores = cross_val_score(model, X, y, cv=cv, scoring='accuracy')\n",
    "\n",
    "    return scores.mean()\n",
    "\n",
    "# Create a pipeline with PCA and logistic regression\n",
    "pipeline = Pipeline([\n",
    "    ('scaler', StandardScaler()),  # Scale the data\n",
    "    ('pca', PCA(n_components=2)),  # Apply PCA with 2 components\n",
    "    ('classifier', LogisticRegression())  # Logistic regression classifier\n",
    "])"
   ]
  },
  {
   "cell_type": "code",
   "execution_count": 187,
   "metadata": {},
   "outputs": [],
   "source": [
    "# import datasets\n",
    "ADMCItrain_dataset=pd.read_csv(\"datasets/ADMCItrain.csv\")\n",
    "# import test datasets\n",
    "ADMCItest_dataset=pd.read_csv(\"datasets/ADMCItest.csv\")"
   ]
  },
  {
   "cell_type": "code",
   "execution_count": 188,
   "metadata": {},
   "outputs": [
    {
     "name": "stdout",
     "output_type": "stream",
     "text": [
      "<class 'pandas.core.frame.DataFrame'>\n",
      "RangeIndex: 172 entries, 0 to 171\n",
      "Data columns (total 65 columns):\n",
      " #   Column                             Non-Null Count  Dtype  \n",
      "---  ------                             --------------  -----  \n",
      " 0   ID                                 172 non-null    object \n",
      " 1   Background                         172 non-null    float64\n",
      " 2   Left-Superior-Frontal-Gyrus        172 non-null    float64\n",
      " 3   Right-Superior-Frontal-Gyrus       172 non-null    float64\n",
      " 4   Left-Middle-Frontal-Gyrus          172 non-null    float64\n",
      " 5   Right-Middle-Frontal-Gyrus         172 non-null    float64\n",
      " 6   Left-Inferior-Frontal-Gyrus        172 non-null    float64\n",
      " 7   Right-Inferior-Frontal-Gyrus       172 non-null    float64\n",
      " 8   Left-Precentral-Gyrus              172 non-null    float64\n",
      " 9   Right-Precentral-Gyrus             172 non-null    float64\n",
      " 10  Left-Middle-Orbitofrontal-Gyrus    172 non-null    float64\n",
      " 11  Right-Middle-Orbitofrontal-Gyrus   172 non-null    float64\n",
      " 12  Left-Lateral—Orbitofrontal-Gyrus   172 non-null    float64\n",
      " 13  Right-Lateral-Orbitofrontal-Gyrus  172 non-null    float64\n",
      " 14  Left-Gyrus-Rectus                  172 non-null    float64\n",
      " 15  Right-Gyrus-Rectus                 172 non-null    float64\n",
      " 16  Left-Postcentral-Gyrus             172 non-null    float64\n",
      " 17  Right-Postcentral-Gyrus            172 non-null    float64\n",
      " 18  Left-Superior-Parietal-Gyrus       172 non-null    float64\n",
      " 19  Right-Superior-Parietal-Gyrus      172 non-null    float64\n",
      " 20  Left-Supramarginal-Gyrus           172 non-null    float64\n",
      " 21  Right-Supramarginal-Gyrus          172 non-null    float64\n",
      " 22  Left-Angular-Gyrus                 172 non-null    float64\n",
      " 23  Right-Angular-Gyrus                172 non-null    float64\n",
      " 24  Left-Precuneus                     172 non-null    float64\n",
      " 25  Right-Precuneus                    172 non-null    float64\n",
      " 26  Left-Superior-Occipital-Gyrus      172 non-null    float64\n",
      " 27  Right-Superior-Occipital-Gyrus     172 non-null    float64\n",
      " 28  Left-Middle-Occipital-Gyrus        172 non-null    float64\n",
      " 29  Right-Middle-Occipital-Gyrus       172 non-null    float64\n",
      " 30  Left-Inferior-Occipital-Gyrus      172 non-null    float64\n",
      " 31  Right-Inferior-Occipital-Gyrus     172 non-null    float64\n",
      " 32  Left-Cuneus                        172 non-null    float64\n",
      " 33  Right-Cuneus                       172 non-null    float64\n",
      " 34  Left-Superior-Temporal-Gyrus       172 non-null    float64\n",
      " 35  Right-Superior-Temporal-Gyrus      172 non-null    float64\n",
      " 36  Left-Middle-Temporal-Gyrus         172 non-null    float64\n",
      " 37  Right-Middle-Temporal-Gyrus        172 non-null    float64\n",
      " 38  Left-Inferior-Temporal-Gyrus       172 non-null    float64\n",
      " 39  Right-Inferior-Temporal-Gyrus      172 non-null    float64\n",
      " 40  Left-Parahippocampal-Gyrus         172 non-null    float64\n",
      " 41  Right-Parahippocampal-Gyrus        172 non-null    float64\n",
      " 42  Left-Lingual-Gyrus                 172 non-null    float64\n",
      " 43  Right-Lingual-Gyrus                172 non-null    float64\n",
      " 44  Left-Fusiform-Gyrus                172 non-null    float64\n",
      " 45  Right-Fusiform-Gyrus               172 non-null    float64\n",
      " 46  Left-Insula                        172 non-null    float64\n",
      " 47  Right-Insula                       172 non-null    float64\n",
      " 48  Left-Cingulate-Gyrus               172 non-null    float64\n",
      " 49  Right-Cingulate-Gyrus              172 non-null    float64\n",
      " 50  Left-Caudate                       172 non-null    float64\n",
      " 51  Right-Caudate                      172 non-null    float64\n",
      " 52  Left-Putamen                       172 non-null    float64\n",
      " 53  Right-Putamen                      172 non-null    float64\n",
      " 54  Left-Hippocampus                   172 non-null    float64\n",
      " 55  Right-Hippocampus                  172 non-null    float64\n",
      " 56  Bothside-Cerebellar-Lobe           172 non-null    float64\n",
      " 57  Bothside-Brainstem                 172 non-null    float64\n",
      " 58  ARPC5                              172 non-null    float64\n",
      " 59  E2F2                               172 non-null    float64\n",
      " 60  PIP5K2A                            172 non-null    float64\n",
      " 61  RNF10                              172 non-null    float64\n",
      " 62  SLC6A10P                           172 non-null    float64\n",
      " 63  TNS1                               172 non-null    float64\n",
      " 64  Label                              172 non-null    object \n",
      "dtypes: float64(63), object(2)\n",
      "memory usage: 87.5+ KB\n"
     ]
    }
   ],
   "source": [
    "ADMCItrain_dataset.info()\n"
   ]
  },
  {
   "cell_type": "code",
   "execution_count": 189,
   "metadata": {},
   "outputs": [
    {
     "name": "stdout",
     "output_type": "stream",
     "text": [
      "Label\n",
      "MCI    90\n",
      "AD     82\n",
      "Name: count, dtype: int64\n"
     ]
    }
   ],
   "source": [
    "# Data preprocessing\n",
    "ADMCI_x, ADMCI_y=preprocess_data(ADMCItrain_dataset)\n",
    "print(ADMCItrain_dataset['Label'].value_counts())\n",
    "ADMCIpca=pro_pca(ADMCI_x)\n",
    "# Create a DataFrame to store the ID, predicted probabilities, and predicted labels\n",
    "pca_df = pd.DataFrame(data=ADMCIpca.round(4),)\n",
    "\n",
    "# Save the DataFrame\n",
    "pca_df.to_csv(\"0075718_Taiabur_ADMCIfeat.csv\", index=False)\n"
   ]
  },
  {
   "cell_type": "code",
   "execution_count": 190,
   "metadata": {},
   "outputs": [
    {
     "data": {
      "image/png": "[encoded data removed]",
      "text/plain": [
       "<Figure size 640x480 with 1 Axes>"
      ]
     },
     "metadata": {},
     "output_type": "display_data"
    }
   ],
   "source": [
    "plt.scatter(ADMCIpca[:, 0], ADMCIpca[:, 1])\n",
    "plt.xlabel(\"Principal Component 1\")\n",
    "plt.ylabel(\"Principal Component 2\")\n",
    "plt.title(\"ADMCI PCA - Outliers\")\n",
    "plt.show()"
   ]
  },
  {
   "cell_type": "code",
   "execution_count": 191,
   "metadata": {},
   "outputs": [],
   "source": [
    "#Dataset split\n",
    "ADMCI_train_x,ADMCI_val_x,ADMCI_train_y,ADMCI_label_y=split_train_validation(ADMCI_x, ADMCI_y)"
   ]
  },
  {
   "cell_type": "code",
   "execution_count": 192,
   "metadata": {},
   "outputs": [
    {
     "name": "stdout",
     "output_type": "stream",
     "text": [
      "LogisticRegression() 0.743801652892562 0.6885245901639344 0.7777777777777778 0.7304347826086957 0.7470978441127695 0.4913519574105358 0.7470978441127695\n",
      "            Accuracy  Sensitivity  Spec  Precision      F1     AUC     MCC   \n",
      "0  ADvsMCI    0.7438       0.7778     0     0.6885  0.7304  0.7471  0.4914  \\\n",
      "\n",
      "       BA  \n",
      "0  0.7471  \n"
     ]
    }
   ],
   "source": [
    "\n",
    "\n",
    "model_logistic_reg, acc, prec, rec, f1, roc_auc,mcc,ba=train_logistic_regression(ADMCI_train_x,ADMCI_train_y,ADMCI_val_x,ADMCI_label_y)\n",
    "print(model_logistic_reg, acc, prec, rec, f1, roc_auc,mcc,ba)\n",
    "\n",
    "LogisticRegression_df=pd.DataFrame()\n",
    "LogisticRegression_df['']=['ADvsMCI']\n",
    "LogisticRegression_df['Accuracy']=[acc.round(4)]\n",
    "LogisticRegression_df['Sensitivity']=[rec.round(4)]\n",
    "LogisticRegression_df['Spec']=[0]\n",
    "LogisticRegression_df['Precision']=[prec.round(4)]\n",
    "LogisticRegression_df['F1']=[f1.round(4)]\n",
    "LogisticRegression_df['AUC']=[roc_auc.round(4)]\n",
    "LogisticRegression_df['MCC']=[mcc.round(4)]\n",
    "LogisticRegression_df['BA']=[ba.round(4)]\n",
    "\n",
    "print(LogisticRegression_df)\n",
    "LogisticRegression_df.to_csv(\"ADMCI_TR_summary.csv\",index=False)\n"
   ]
  },
  {
   "cell_type": "code",
   "execution_count": 193,
   "metadata": {},
   "outputs": [],
   "source": [
    "ADMCI_test_x, ADMCI_test_y=preprocess_test_data(ADMCItest_dataset)\n",
    "y_pred_ADMCI=model_logistic_reg.predict(ADMCI_test_x)\n",
    "y_predict_proba_ADMCI=model_logistic_reg.predict_proba(ADMCI_test_x)\n",
    "\n",
    "# Create a DataFrame to store the ID, predicted probabilities, and predicted labels\n",
    "predictions_df = pd.DataFrame(data=y_predict_proba_ADMCI.round(4),columns=model_logistic_reg.classes_)\n",
    "predictions_df[\"ID\"] = ADMCItest_dataset[\"ID\"]\n",
    "predictions_df[\"test_data_predicted_Label\"] = y_pred_ADMCI\n",
    "\n",
    "# Save the DataFrame\n",
    "predictions_df[[\"ID\",0,1,\"test_data_predicted_Label\"]].to_csv(\"0075718_Taiabur_ADMCIres.csv\", index=False)"
   ]
  }
 ],
 "metadata": {
  "kernelspec": {
   "display_name": "venv",
   "language": "python",
   "name": "python3"
  },
  "language_info": {
   "codemirror_mode": {
    "name": "ipython",
    "version": 3
   },
   "file_extension": ".py",
   "mimetype": "text/x-python",
   "name": "python",
   "nbconvert_exporter": "python",
   "pygments_lexer": "ipython3",
   "version": "3.9.13"
  },
  "orig_nbformat": 4
 },
 "nbformat": 4,
 "nbformat_minor": 2
}
